{
 "cells": [
  {
   "cell_type": "markdown",
   "metadata": {},
   "source": [
    "# Viewing Observations fom netcdfs files"
   ]
  },
  {
   "cell_type": "code",
   "execution_count": 1,
   "metadata": {},
   "outputs": [
    {
     "name": "stdout",
     "output_type": "stream",
     "text": [
      "KeysView(<xarray.Dataset>\n",
      "Dimensions:  (lat: 135, lon: 166, time: 365)\n",
      "Coordinates:\n",
      "  * lat      (lat) float64 42.82 42.83 42.84 42.85 ... 44.13 44.14 44.15 44.16\n",
      "  * lon      (lon) float64 -80.32 -80.31 -80.3 -80.29 ... -78.69 -78.68 -78.67\n",
      "  * time     (time) datetime64[ns] 2010-01-01T12:00:00 ... 2010-12-31T12:00:00\n",
      "Data variables:\n",
      "    tmax     (time, lat, lon) float32 0.0 0.0 0.0 0.0 0.0 ... 0.0 0.0 0.0 0.0\n",
      "Attributes:\n",
      "    regrid_method:  bilinear)\n"
     ]
    }
   ],
   "source": [
    "import numpy as np\n",
    "import xarray as xr\n",
    "import dask\n",
    "import scipy.stats as stats\n",
    "import matplotlib.pyplot as plt\n",
    "import cartopy.crs as ccrs\n",
    "import cartopy.feature as cfeature\n",
    "import os\n",
    "import json\n",
    "import requests\n",
    "from tqdm import tqdm\n",
    "\n",
    "# Load netcdf file\n",
    "def load_netcdf(var, year):\n",
    "    # Define source filename\n",
    "    filename = 'DayMet_Gridded_Obs_GTA/' + var + '/' + var + '_' + year + 'subset.nc'\n",
    "    # Check if file exists\n",
    "    if os.path.isfile(filename):\n",
    "        return xr.load_dataset(filename)\n",
    "    else:\n",
    "        print('File does not exist')\n",
    "        exit(0)\n",
    "\n",
    "ds = load_netcdf('tmax', '2010')\n",
    "print(ds.keys())"
   ]
  }
 ],
 "metadata": {
  "kernelspec": {
   "display_name": "UTCDW-env",
   "language": "python",
   "name": "python3"
  },
  "language_info": {
   "codemirror_mode": {
    "name": "ipython",
    "version": 3
   },
   "file_extension": ".py",
   "mimetype": "text/x-python",
   "name": "python",
   "nbconvert_exporter": "python",
   "pygments_lexer": "ipython3",
   "version": "3.10.12"
  }
 },
 "nbformat": 4,
 "nbformat_minor": 2
}
